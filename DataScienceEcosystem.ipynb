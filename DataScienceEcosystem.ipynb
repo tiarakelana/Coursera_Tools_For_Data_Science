{
 "cells": [
  {
   "cell_type": "markdown",
   "id": "15e48ed6-baaa-4fba-922e-0126d572dc7a",
   "metadata": {},
   "source": [
    "Data Science Tools and Ecosystem"
   ]
  },
  {
   "cell_type": "markdown",
   "id": "77f14bd4-8366-440e-ba1a-bd1838e25bbd",
   "metadata": {},
   "source": [
    "In this notebook, Data Science Tools and Ecosystem are summarized"
   ]
  },
  {
   "cell_type": "markdown",
   "id": "32501b02-f467-454e-b96f-04a1893d4193",
   "metadata": {},
   "source": [
    "**Objectives:**\n",
    "* Python.\n",
    "* R.\n",
    "* SQL.\n",
    "* Java.\n",
    "* Julia."
   ]
  },
  {
   "cell_type": "markdown",
   "id": "859a834d-1704-4b37-9ee4-a191bb9cd505",
   "metadata": {},
   "source": [
    "Some of the popular languages that Data Scientists use are:\n",
    "* Python.\n",
    "* R.\n",
    "* SQL.\n",
    "* Java.\n",
    "* Julia.\n",
    "* Scala.\n",
    "* C/C++\n",
    "* JavaScript."
   ]
  },
  {
   "cell_type": "markdown",
   "id": "377ca7c1-d03d-4bce-a32d-9637968d4f2b",
   "metadata": {
    "tags": []
   },
   "source": [
    "Some of the commonly used libraries used by Data Scientists include:\n",
    "* NumPy.\n",
    "* Keras.\n",
    "* Pandas.\n",
    "* PyTorch.\n",
    "* SciPy."
   ]
  },
  {
   "cell_type": "markdown",
   "id": "ec34c328-617a-44f2-843e-afbf5d233542",
   "metadata": {},
   "source": [
    "|Data Science Tools| \n",
    "|:--------:|\n",
    "|  RStudio. |  \n",
    "|  Apache Spark.| \n",
    "|  TensorFlow.|  "
   ]
  },
  {
   "cell_type": "markdown",
   "id": "d1b8e1bd-50c9-4c7b-863c-9bd587369301",
   "metadata": {},
   "source": [
    "### Below are a few examples of evaluating arithmetic expressions in Python"
   ]
  },
  {
   "cell_type": "code",
   "execution_count": 7,
   "id": "50e0032b-c81d-4dc0-874d-6c4e45c0e1cb",
   "metadata": {
    "tags": []
   },
   "outputs": [
    {
     "data": {
      "text/plain": [
       "17"
      ]
     },
     "execution_count": 7,
     "metadata": {},
     "output_type": "execute_result"
    }
   ],
   "source": [
    "# This a simple arithmetic expression to mutiply then add integers.\n",
    "(3*4)+5"
   ]
  },
  {
   "cell_type": "code",
   "execution_count": 8,
   "id": "be292113-a046-4d03-a4bc-aac31f64b02e",
   "metadata": {
    "tags": []
   },
   "outputs": [
    {
     "data": {
      "text/plain": [
       "3.3333333333333335"
      ]
     },
     "execution_count": 8,
     "metadata": {},
     "output_type": "execute_result"
    }
   ],
   "source": [
    "# This will convert 200 minutes to hours by diving by 60.\n",
    "200/60"
   ]
  },
  {
   "cell_type": "markdown",
   "id": "4172e8d4-723b-4968-b26d-0a6f75b57843",
   "metadata": {},
   "source": [
    "## Author\n",
    "Tiara Kelana"
   ]
  },
  {
   "cell_type": "code",
   "execution_count": null,
   "id": "be830807-d311-4c5b-9969-3aed3dbe4866",
   "metadata": {},
   "outputs": [],
   "source": []
  }
 ],
 "metadata": {
  "kernelspec": {
   "display_name": "Python",
   "language": "python",
   "name": "conda-env-python-py"
  },
  "language_info": {
   "codemirror_mode": {
    "name": "ipython",
    "version": 3
   },
   "file_extension": ".py",
   "mimetype": "text/x-python",
   "name": "python",
   "nbconvert_exporter": "python",
   "pygments_lexer": "ipython3",
   "version": "3.7.12"
  }
 },
 "nbformat": 4,
 "nbformat_minor": 5
}
